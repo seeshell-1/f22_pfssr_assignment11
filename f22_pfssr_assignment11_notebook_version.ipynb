{
 "cells": [
  {
   "cell_type": "markdown",
   "metadata": {},
   "source": [
    "# EPSY 5122: Programming for Social Science Researchers\n",
    "## Assignment 11\n",
    "### Due Tuesday, November 29, 2022 by 2:30pm"
   ]
  },
  {
   "cell_type": "markdown",
   "metadata": {},
   "source": [
    "#### Problem 0\n",
    "\n",
    "If you've made it to this document, you likely already did Problem 0 from the readme.  But just in case, here it is again!\n",
    "\n",
    "a) Let's watch some videos! I recommend all the videos in this series (for future learning), but we will just focus on two now. Watch the first half of this video (https://www.youtube.com/watch?v=_NrSWLQsDL4&list=PLRqwX-V7Uu6ZF9C0YMKuns9sLDzK6zoiV&index=3) -- just the part about forking, you can ignore pull requests!  Then watch this video:\n",
    "https://www.youtube.com/watch?v=yXT1ElMEkW8&list=PLRqwX-V7Uu6ZF9C0YMKuns9sLDzK6zoiV&index=6 (you don't have to do the terminal git commands, you can use the GitKraken clone strategy we used in class)\n",
    "\n",
    "b) Using what you learned in 0a, **fork** my GitHub repository (remote repo) to your own account, then **clone** to your hard drive (local repo) using GitKraken (or use the command-line if you want the extra challenge).  After finishing EACH problem below, make sure to STAGE and COMMIT with a comment (e.g., \"Just finished Part 1! Git is fun!\" or whatever).  Then PUSH back to GitHub."
   ]
  },
  {
   "cell_type": "markdown",
   "metadata": {},
   "source": [
    "###### Note on privacy!\n",
    "\n",
    "By default, GitHub repos are public (promoting open source sharing of code), but of course you are more than welcome to make your code for this assignment private, as is your right!  Unfortunately, it's a little bit complicated because GitKraken recently made a change that the free version of their software doesn't allow for private repo access, and you need the paid version.  So here are 3 ways to do this privately:\n",
    "\n",
    "1) GitKraken partners with GitHub to provide a free pack of resources (including the pro version of GitKraken) for *students*.  That's you!  So you can sign up here *only if you want to do this*: https://education.github.com/pack?utm_source=github+gitkraken\n",
    "\n",
    "2) Just keep your GitHub repo public while you're working on this project.  Use free GitKraken.  Then switch the GitHub repo to Private only when you're done using GitKraken to push to GitHub.\n",
    "\n",
    "3) Keep the repo private and use the terminal git commands in the YouTube video for Problem 0a.\n",
    "\n",
    "To make the repo private:\n",
    "On your GitHub repo, go to Settings > Manage Access > Manage (under Public Repository) > Change Visibility.  Then add me (jkbye) as a 'collaborator' so I can see it: Settings > Manage Access > Invite a Collaborator (green button) > add 'jkbye'."
   ]
  },
  {
   "cell_type": "markdown",
   "metadata": {},
   "source": [
    "#### Problem 1\n",
    "\n",
    "Now let's get to Jupyter!\n",
    "\n",
    "a) Import any helpful libraries in this Jupyter Notebook.\n",
    "\n",
    "b) Load the *MA_Public_Schools_2017.csv* file as a pandas data frame.  Note: these data are from Kaggle: https://www.kaggle.com/ndalziel/massachusetts-public-schools-data and I have already removed a lot of columns.\n",
    "\n",
    "c) Adapt the example code in the chunk below to replace all spaces in column names with underscores. This is good practice in order to not cause problems with functions that don't allow spaces in variable names (e.g., **smf.ols**).\n",
    "\n",
    "d) Adapt the code from 1c to replace \"%\" sign with \"Perc\", because it is also good practice not to start column names with symbols.\n",
    "\n",
    "e) Find the descriptives for numeric columns.\n",
    "\n",
    "f) Commit your changes and push to GitHub!"
   ]
  },
  {
   "cell_type": "code",
   "execution_count": 6,
   "metadata": {},
   "outputs": [],
   "source": [
    "import numpy as np"
   ]
  },
  {
   "cell_type": "code",
   "execution_count": 7,
   "metadata": {},
   "outputs": [],
   "source": [
    "import pandas as pd"
   ]
  },
  {
   "cell_type": "code",
   "execution_count": 8,
   "metadata": {},
   "outputs": [],
   "source": [
    "import matplotlib.pyplot as plt"
   ]
  },
  {
   "cell_type": "code",
   "execution_count": 9,
   "metadata": {},
   "outputs": [],
   "source": [
    "import seaborn as sns"
   ]
  },
  {
   "cell_type": "code",
   "execution_count": 10,
   "metadata": {},
   "outputs": [],
   "source": [
    "from sklearn.linear_model import LinearRegression"
   ]
  },
  {
   "cell_type": "code",
   "execution_count": 11,
   "metadata": {},
   "outputs": [],
   "source": [
    "import statsmodels.api as sm"
   ]
  },
  {
   "cell_type": "code",
   "execution_count": 12,
   "metadata": {},
   "outputs": [],
   "source": [
    "import statsmodels.formula.api as smf"
   ]
  },
  {
   "cell_type": "code",
   "execution_count": 13,
   "metadata": {},
   "outputs": [],
   "source": [
    "import numpy.random as npr"
   ]
  },
  {
   "cell_type": "code",
   "execution_count": 14,
   "metadata": {},
   "outputs": [],
   "source": [
    "import scipy.stats as stats"
   ]
  },
  {
   "cell_type": "code",
   "execution_count": 15,
   "metadata": {},
   "outputs": [],
   "source": [
    "# Problem 1 code here (can split into multiple code chunks if you want)\n",
    "# 1b. Load the file\n",
    "school_data = pd.read_csv('in_data/MA_Public_Schools_2017.csv')"
   ]
  },
  {
   "cell_type": "code",
   "execution_count": 16,
   "metadata": {},
   "outputs": [],
   "source": [
    "# starter code for 1c -- replace school_data w/ your dataframe name\n",
    "school_data.columns = school_data.columns.str.replace(' ', '_') # notice this replaces the 1st argument w/ the 2nd"
   ]
  },
  {
   "cell_type": "code",
   "execution_count": 17,
   "metadata": {},
   "outputs": [],
   "source": [
    "# 1d. replace \"%\" sign with \"Perc\"\n",
    "school_data.columns = school_data.columns.str.replace('%', 'Perc')"
   ]
  },
  {
   "cell_type": "code",
   "execution_count": 18,
   "metadata": {},
   "outputs": [],
   "source": [
    "# 1e. descriptives for numeric columns\n",
    "newdf = school_data.select_dtypes(exclude = ['object'])"
   ]
  },
  {
   "cell_type": "code",
   "execution_count": 19,
   "metadata": {},
   "outputs": [
    {
     "data": {
      "text/html": [
       "<div>\n",
       "<style scoped>\n",
       "    .dataframe tbody tr th:only-of-type {\n",
       "        vertical-align: middle;\n",
       "    }\n",
       "\n",
       "    .dataframe tbody tr th {\n",
       "        vertical-align: top;\n",
       "    }\n",
       "\n",
       "    .dataframe thead th {\n",
       "        text-align: right;\n",
       "    }\n",
       "</style>\n",
       "<table border=\"1\" class=\"dataframe\">\n",
       "  <thead>\n",
       "    <tr style=\"text-align: right;\">\n",
       "      <th></th>\n",
       "      <th>School_Code</th>\n",
       "      <th>District_Code</th>\n",
       "      <th>PK_Enrollment</th>\n",
       "      <th>K_Enrollment</th>\n",
       "      <th>1_Enrollment</th>\n",
       "      <th>2_Enrollment</th>\n",
       "      <th>3_Enrollment</th>\n",
       "      <th>4_Enrollment</th>\n",
       "      <th>5_Enrollment</th>\n",
       "      <th>6_Enrollment</th>\n",
       "      <th>...</th>\n",
       "      <th>Number_of_Students</th>\n",
       "      <th>Salary_Totals</th>\n",
       "      <th>Average_Salary</th>\n",
       "      <th>FTE_Count</th>\n",
       "      <th>In-District_Expenditures</th>\n",
       "      <th>Total_In-district_FTEs</th>\n",
       "      <th>Average_In-District_Expenditures_per_Pupil</th>\n",
       "      <th>Total_Expenditures</th>\n",
       "      <th>Total_Pupil_FTEs</th>\n",
       "      <th>Average_Expenditures_per_Pupil</th>\n",
       "    </tr>\n",
       "  </thead>\n",
       "  <tbody>\n",
       "    <tr>\n",
       "      <th>count</th>\n",
       "      <td>1.861000e+03</td>\n",
       "      <td>1.861000e+03</td>\n",
       "      <td>1861.000000</td>\n",
       "      <td>1861.000000</td>\n",
       "      <td>1861.000000</td>\n",
       "      <td>1861.000000</td>\n",
       "      <td>1861.000000</td>\n",
       "      <td>1861.000000</td>\n",
       "      <td>1861.000000</td>\n",
       "      <td>1861.000000</td>\n",
       "      <td>...</td>\n",
       "      <td>1823.000000</td>\n",
       "      <td>1.769000e+03</td>\n",
       "      <td>1769.000000</td>\n",
       "      <td>1769.000000</td>\n",
       "      <td>1.768000e+03</td>\n",
       "      <td>1768.000000</td>\n",
       "      <td>1768.00000</td>\n",
       "      <td>1.768000e+03</td>\n",
       "      <td>1768.000000</td>\n",
       "      <td>1768.000000</td>\n",
       "    </tr>\n",
       "    <tr>\n",
       "      <th>mean</th>\n",
       "      <td>2.918442e+06</td>\n",
       "      <td>2.918254e+06</td>\n",
       "      <td>15.837722</td>\n",
       "      <td>35.535196</td>\n",
       "      <td>36.629232</td>\n",
       "      <td>37.518538</td>\n",
       "      <td>38.584632</td>\n",
       "      <td>38.717356</td>\n",
       "      <td>38.089199</td>\n",
       "      <td>37.879635</td>\n",
       "      <td>...</td>\n",
       "      <td>523.515634</td>\n",
       "      <td>5.625178e+07</td>\n",
       "      <td>74036.641040</td>\n",
       "      <td>707.853024</td>\n",
       "      <td>1.518097e+08</td>\n",
       "      <td>9376.335633</td>\n",
       "      <td>14573.85582</td>\n",
       "      <td>1.731198e+08</td>\n",
       "      <td>10466.072624</td>\n",
       "      <td>15038.254949</td>\n",
       "    </tr>\n",
       "    <tr>\n",
       "      <th>std</th>\n",
       "      <td>3.941407e+06</td>\n",
       "      <td>3.941370e+06</td>\n",
       "      <td>37.784512</td>\n",
       "      <td>44.632989</td>\n",
       "      <td>42.732414</td>\n",
       "      <td>43.842672</td>\n",
       "      <td>46.541783</td>\n",
       "      <td>48.915559</td>\n",
       "      <td>55.040382</td>\n",
       "      <td>75.304290</td>\n",
       "      <td>...</td>\n",
       "      <td>357.861705</td>\n",
       "      <td>9.335788e+07</td>\n",
       "      <td>7990.377315</td>\n",
       "      <td>1065.807405</td>\n",
       "      <td>2.661339e+08</td>\n",
       "      <td>14015.732845</td>\n",
       "      <td>2940.80342</td>\n",
       "      <td>3.093057e+08</td>\n",
       "      <td>16287.467986</td>\n",
       "      <td>2743.977057</td>\n",
       "    </tr>\n",
       "    <tr>\n",
       "      <th>min</th>\n",
       "      <td>1.000200e+04</td>\n",
       "      <td>1.000000e+04</td>\n",
       "      <td>0.000000</td>\n",
       "      <td>0.000000</td>\n",
       "      <td>0.000000</td>\n",
       "      <td>0.000000</td>\n",
       "      <td>0.000000</td>\n",
       "      <td>0.000000</td>\n",
       "      <td>0.000000</td>\n",
       "      <td>0.000000</td>\n",
       "      <td>...</td>\n",
       "      <td>2.000000</td>\n",
       "      <td>5.534000e+04</td>\n",
       "      <td>34588.000000</td>\n",
       "      <td>2.000000</td>\n",
       "      <td>6.975500e+05</td>\n",
       "      <td>38.400000</td>\n",
       "      <td>9451.51000</td>\n",
       "      <td>1.132413e+06</td>\n",
       "      <td>82.800000</td>\n",
       "      <td>10399.970000</td>\n",
       "    </tr>\n",
       "    <tr>\n",
       "      <th>25%</th>\n",
       "      <td>9.700600e+05</td>\n",
       "      <td>9.700000e+05</td>\n",
       "      <td>0.000000</td>\n",
       "      <td>0.000000</td>\n",
       "      <td>0.000000</td>\n",
       "      <td>0.000000</td>\n",
       "      <td>0.000000</td>\n",
       "      <td>0.000000</td>\n",
       "      <td>0.000000</td>\n",
       "      <td>0.000000</td>\n",
       "      <td>...</td>\n",
       "      <td>306.500000</td>\n",
       "      <td>1.215839e+07</td>\n",
       "      <td>68572.000000</td>\n",
       "      <td>166.000000</td>\n",
       "      <td>3.061598e+07</td>\n",
       "      <td>2312.150000</td>\n",
       "      <td>12785.25000</td>\n",
       "      <td>3.353242e+07</td>\n",
       "      <td>2442.900000</td>\n",
       "      <td>13339.700000</td>\n",
       "    </tr>\n",
       "    <tr>\n",
       "      <th>50%</th>\n",
       "      <td>2.100410e+06</td>\n",
       "      <td>2.100000e+06</td>\n",
       "      <td>0.000000</td>\n",
       "      <td>17.000000</td>\n",
       "      <td>22.000000</td>\n",
       "      <td>20.000000</td>\n",
       "      <td>16.000000</td>\n",
       "      <td>16.000000</td>\n",
       "      <td>0.000000</td>\n",
       "      <td>0.000000</td>\n",
       "      <td>...</td>\n",
       "      <td>445.000000</td>\n",
       "      <td>2.269741e+07</td>\n",
       "      <td>73471.000000</td>\n",
       "      <td>308.000000</td>\n",
       "      <td>5.293331e+07</td>\n",
       "      <td>4205.300000</td>\n",
       "      <td>13599.49000</td>\n",
       "      <td>5.863741e+07</td>\n",
       "      <td>4392.000000</td>\n",
       "      <td>14137.480000</td>\n",
       "    </tr>\n",
       "    <tr>\n",
       "      <th>75%</th>\n",
       "      <td>3.310030e+06</td>\n",
       "      <td>3.310000e+06</td>\n",
       "      <td>15.000000</td>\n",
       "      <td>64.000000</td>\n",
       "      <td>66.000000</td>\n",
       "      <td>68.000000</td>\n",
       "      <td>71.000000</td>\n",
       "      <td>70.000000</td>\n",
       "      <td>66.000000</td>\n",
       "      <td>45.000000</td>\n",
       "      <td>...</td>\n",
       "      <td>634.500000</td>\n",
       "      <td>4.808571e+07</td>\n",
       "      <td>78256.000000</td>\n",
       "      <td>627.000000</td>\n",
       "      <td>1.287478e+08</td>\n",
       "      <td>7700.400000</td>\n",
       "      <td>15478.08000</td>\n",
       "      <td>1.335444e+08</td>\n",
       "      <td>8378.900000</td>\n",
       "      <td>15900.290000</td>\n",
       "    </tr>\n",
       "    <tr>\n",
       "      <th>max</th>\n",
       "      <td>3.902090e+07</td>\n",
       "      <td>3.902000e+07</td>\n",
       "      <td>560.000000</td>\n",
       "      <td>557.000000</td>\n",
       "      <td>245.000000</td>\n",
       "      <td>250.000000</td>\n",
       "      <td>319.000000</td>\n",
       "      <td>446.000000</td>\n",
       "      <td>487.000000</td>\n",
       "      <td>490.000000</td>\n",
       "      <td>...</td>\n",
       "      <td>4327.000000</td>\n",
       "      <td>3.838662e+08</td>\n",
       "      <td>100731.000000</td>\n",
       "      <td>4323.000000</td>\n",
       "      <td>1.093104e+09</td>\n",
       "      <td>56858.800000</td>\n",
       "      <td>38780.85000</td>\n",
       "      <td>1.269580e+09</td>\n",
       "      <td>65964.600000</td>\n",
       "      <td>30505.050000</td>\n",
       "    </tr>\n",
       "  </tbody>\n",
       "</table>\n",
       "<p>8 rows × 42 columns</p>\n",
       "</div>"
      ],
      "text/plain": [
       "        School_Code  District_Code  PK_Enrollment  K_Enrollment  1_Enrollment  \\\n",
       "count  1.861000e+03   1.861000e+03    1861.000000   1861.000000   1861.000000   \n",
       "mean   2.918442e+06   2.918254e+06      15.837722     35.535196     36.629232   \n",
       "std    3.941407e+06   3.941370e+06      37.784512     44.632989     42.732414   \n",
       "min    1.000200e+04   1.000000e+04       0.000000      0.000000      0.000000   \n",
       "25%    9.700600e+05   9.700000e+05       0.000000      0.000000      0.000000   \n",
       "50%    2.100410e+06   2.100000e+06       0.000000     17.000000     22.000000   \n",
       "75%    3.310030e+06   3.310000e+06      15.000000     64.000000     66.000000   \n",
       "max    3.902090e+07   3.902000e+07     560.000000    557.000000    245.000000   \n",
       "\n",
       "       2_Enrollment  3_Enrollment  4_Enrollment  5_Enrollment  6_Enrollment  \\\n",
       "count   1861.000000   1861.000000   1861.000000   1861.000000   1861.000000   \n",
       "mean      37.518538     38.584632     38.717356     38.089199     37.879635   \n",
       "std       43.842672     46.541783     48.915559     55.040382     75.304290   \n",
       "min        0.000000      0.000000      0.000000      0.000000      0.000000   \n",
       "25%        0.000000      0.000000      0.000000      0.000000      0.000000   \n",
       "50%       20.000000     16.000000     16.000000      0.000000      0.000000   \n",
       "75%       68.000000     71.000000     70.000000     66.000000     45.000000   \n",
       "max      250.000000    319.000000    446.000000    487.000000    490.000000   \n",
       "\n",
       "       ...  Number_of_Students  Salary_Totals  Average_Salary    FTE_Count  \\\n",
       "count  ...         1823.000000   1.769000e+03     1769.000000  1769.000000   \n",
       "mean   ...          523.515634   5.625178e+07    74036.641040   707.853024   \n",
       "std    ...          357.861705   9.335788e+07     7990.377315  1065.807405   \n",
       "min    ...            2.000000   5.534000e+04    34588.000000     2.000000   \n",
       "25%    ...          306.500000   1.215839e+07    68572.000000   166.000000   \n",
       "50%    ...          445.000000   2.269741e+07    73471.000000   308.000000   \n",
       "75%    ...          634.500000   4.808571e+07    78256.000000   627.000000   \n",
       "max    ...         4327.000000   3.838662e+08   100731.000000  4323.000000   \n",
       "\n",
       "       In-District_Expenditures  Total_In-district_FTEs  \\\n",
       "count              1.768000e+03             1768.000000   \n",
       "mean               1.518097e+08             9376.335633   \n",
       "std                2.661339e+08            14015.732845   \n",
       "min                6.975500e+05               38.400000   \n",
       "25%                3.061598e+07             2312.150000   \n",
       "50%                5.293331e+07             4205.300000   \n",
       "75%                1.287478e+08             7700.400000   \n",
       "max                1.093104e+09            56858.800000   \n",
       "\n",
       "       Average_In-District_Expenditures_per_Pupil  Total_Expenditures  \\\n",
       "count                                  1768.00000        1.768000e+03   \n",
       "mean                                  14573.85582        1.731198e+08   \n",
       "std                                    2940.80342        3.093057e+08   \n",
       "min                                    9451.51000        1.132413e+06   \n",
       "25%                                   12785.25000        3.353242e+07   \n",
       "50%                                   13599.49000        5.863741e+07   \n",
       "75%                                   15478.08000        1.335444e+08   \n",
       "max                                   38780.85000        1.269580e+09   \n",
       "\n",
       "       Total_Pupil_FTEs  Average_Expenditures_per_Pupil  \n",
       "count       1768.000000                     1768.000000  \n",
       "mean       10466.072624                    15038.254949  \n",
       "std        16287.467986                     2743.977057  \n",
       "min           82.800000                    10399.970000  \n",
       "25%         2442.900000                    13339.700000  \n",
       "50%         4392.000000                    14137.480000  \n",
       "75%         8378.900000                    15900.290000  \n",
       "max        65964.600000                    30505.050000  \n",
       "\n",
       "[8 rows x 42 columns]"
      ]
     },
     "execution_count": 19,
     "metadata": {},
     "output_type": "execute_result"
    }
   ],
   "source": [
    "newdf.describe()"
   ]
  },
  {
   "cell_type": "markdown",
   "metadata": {},
   "source": [
    "#### Problem 2\n",
    "\n",
    "a) Remove the District Code column.\n",
    "\n",
    "b) Create a new column called \"TOTAL_Enrollment\" that is the sum of all columns that end in \"Enrollment\".\n",
    "\n",
    "c) Compute the mean of \"TOTAL_Enrollment\" for each District. (Hint: groupby)\n",
    "\n",
    "d) Commit your changes and push to GitHub!"
   ]
  },
  {
   "cell_type": "code",
   "execution_count": 20,
   "metadata": {},
   "outputs": [],
   "source": [
    "# Problem 2 code here (can split into multiple code chunks if you want)\n",
    "# 2a. Remove the District Code column\n",
    "school_data_drop = newdf.drop('District_Code', axis=1)"
   ]
  },
  {
   "cell_type": "code",
   "execution_count": 54,
   "metadata": {},
   "outputs": [
    {
     "ename": "KeyError",
     "evalue": "'Enrollment'",
     "output_type": "error",
     "traceback": [
      "\u001b[0;31m---------------------------------------------------------------------------\u001b[0m",
      "\u001b[0;31mKeyError\u001b[0m                                  Traceback (most recent call last)",
      "\u001b[0;32m/var/folders/lq/jf4nfmlx7ls4jyrzqt4k0xmm0000gn/T/ipykernel_81612/3214213744.py\u001b[0m in \u001b[0;36m<module>\u001b[0;34m\u001b[0m\n\u001b[1;32m      1\u001b[0m \u001b[0;31m# 2b.\u001b[0m\u001b[0;34m\u001b[0m\u001b[0;34m\u001b[0m\u001b[0m\n\u001b[0;32m----> 2\u001b[0;31m \u001b[0mdf2\u001b[0m \u001b[0;34m=\u001b[0m \u001b[0mschool_data_drop\u001b[0m\u001b[0;34m.\u001b[0m\u001b[0mgroupby\u001b[0m\u001b[0;34m(\u001b[0m\u001b[0;34m[\u001b[0m\u001b[0;34m'Enrollment'\u001b[0m\u001b[0;34m]\u001b[0m\u001b[0;34m)\u001b[0m\u001b[0;34m.\u001b[0m\u001b[0msum\u001b[0m\u001b[0;34m(\u001b[0m\u001b[0;34m)\u001b[0m\u001b[0;34m\u001b[0m\u001b[0;34m\u001b[0m\u001b[0m\n\u001b[0m\u001b[1;32m      3\u001b[0m \u001b[0mprint\u001b[0m\u001b[0;34m(\u001b[0m\u001b[0mdf2\u001b[0m\u001b[0;34m)\u001b[0m\u001b[0;34m\u001b[0m\u001b[0;34m\u001b[0m\u001b[0m\n",
      "\u001b[0;32m~/opt/anaconda3/lib/python3.9/site-packages/pandas/core/frame.py\u001b[0m in \u001b[0;36mgroupby\u001b[0;34m(self, by, axis, level, as_index, sort, group_keys, squeeze, observed, dropna)\u001b[0m\n\u001b[1;32m   7719\u001b[0m         \u001b[0;31m# error: Argument \"squeeze\" to \"DataFrameGroupBy\" has incompatible type\u001b[0m\u001b[0;34m\u001b[0m\u001b[0;34m\u001b[0m\u001b[0m\n\u001b[1;32m   7720\u001b[0m         \u001b[0;31m# \"Union[bool, NoDefault]\"; expected \"bool\"\u001b[0m\u001b[0;34m\u001b[0m\u001b[0;34m\u001b[0m\u001b[0m\n\u001b[0;32m-> 7721\u001b[0;31m         return DataFrameGroupBy(\n\u001b[0m\u001b[1;32m   7722\u001b[0m             \u001b[0mobj\u001b[0m\u001b[0;34m=\u001b[0m\u001b[0mself\u001b[0m\u001b[0;34m,\u001b[0m\u001b[0;34m\u001b[0m\u001b[0;34m\u001b[0m\u001b[0m\n\u001b[1;32m   7723\u001b[0m             \u001b[0mkeys\u001b[0m\u001b[0;34m=\u001b[0m\u001b[0mby\u001b[0m\u001b[0;34m,\u001b[0m\u001b[0;34m\u001b[0m\u001b[0;34m\u001b[0m\u001b[0m\n",
      "\u001b[0;32m~/opt/anaconda3/lib/python3.9/site-packages/pandas/core/groupby/groupby.py\u001b[0m in \u001b[0;36m__init__\u001b[0;34m(self, obj, keys, axis, level, grouper, exclusions, selection, as_index, sort, group_keys, squeeze, observed, mutated, dropna)\u001b[0m\n\u001b[1;32m    880\u001b[0m             \u001b[0;32mfrom\u001b[0m \u001b[0mpandas\u001b[0m\u001b[0;34m.\u001b[0m\u001b[0mcore\u001b[0m\u001b[0;34m.\u001b[0m\u001b[0mgroupby\u001b[0m\u001b[0;34m.\u001b[0m\u001b[0mgrouper\u001b[0m \u001b[0;32mimport\u001b[0m \u001b[0mget_grouper\u001b[0m\u001b[0;34m\u001b[0m\u001b[0;34m\u001b[0m\u001b[0m\n\u001b[1;32m    881\u001b[0m \u001b[0;34m\u001b[0m\u001b[0m\n\u001b[0;32m--> 882\u001b[0;31m             grouper, exclusions, obj = get_grouper(\n\u001b[0m\u001b[1;32m    883\u001b[0m                 \u001b[0mobj\u001b[0m\u001b[0;34m,\u001b[0m\u001b[0;34m\u001b[0m\u001b[0;34m\u001b[0m\u001b[0m\n\u001b[1;32m    884\u001b[0m                 \u001b[0mkeys\u001b[0m\u001b[0;34m,\u001b[0m\u001b[0;34m\u001b[0m\u001b[0;34m\u001b[0m\u001b[0m\n",
      "\u001b[0;32m~/opt/anaconda3/lib/python3.9/site-packages/pandas/core/groupby/grouper.py\u001b[0m in \u001b[0;36mget_grouper\u001b[0;34m(obj, key, axis, level, sort, observed, mutated, validate, dropna)\u001b[0m\n\u001b[1;32m    880\u001b[0m                 \u001b[0min_axis\u001b[0m\u001b[0;34m,\u001b[0m \u001b[0mlevel\u001b[0m\u001b[0;34m,\u001b[0m \u001b[0mgpr\u001b[0m \u001b[0;34m=\u001b[0m \u001b[0;32mFalse\u001b[0m\u001b[0;34m,\u001b[0m \u001b[0mgpr\u001b[0m\u001b[0;34m,\u001b[0m \u001b[0;32mNone\u001b[0m\u001b[0;34m\u001b[0m\u001b[0;34m\u001b[0m\u001b[0m\n\u001b[1;32m    881\u001b[0m             \u001b[0;32melse\u001b[0m\u001b[0;34m:\u001b[0m\u001b[0;34m\u001b[0m\u001b[0;34m\u001b[0m\u001b[0m\n\u001b[0;32m--> 882\u001b[0;31m                 \u001b[0;32mraise\u001b[0m \u001b[0mKeyError\u001b[0m\u001b[0;34m(\u001b[0m\u001b[0mgpr\u001b[0m\u001b[0;34m)\u001b[0m\u001b[0;34m\u001b[0m\u001b[0;34m\u001b[0m\u001b[0m\n\u001b[0m\u001b[1;32m    883\u001b[0m         \u001b[0;32melif\u001b[0m \u001b[0misinstance\u001b[0m\u001b[0;34m(\u001b[0m\u001b[0mgpr\u001b[0m\u001b[0;34m,\u001b[0m \u001b[0mGrouper\u001b[0m\u001b[0;34m)\u001b[0m \u001b[0;32mand\u001b[0m \u001b[0mgpr\u001b[0m\u001b[0;34m.\u001b[0m\u001b[0mkey\u001b[0m \u001b[0;32mis\u001b[0m \u001b[0;32mnot\u001b[0m \u001b[0;32mNone\u001b[0m\u001b[0;34m:\u001b[0m\u001b[0;34m\u001b[0m\u001b[0;34m\u001b[0m\u001b[0m\n\u001b[1;32m    884\u001b[0m             \u001b[0;31m# Add key to exclusions\u001b[0m\u001b[0;34m\u001b[0m\u001b[0;34m\u001b[0m\u001b[0m\n",
      "\u001b[0;31mKeyError\u001b[0m: 'Enrollment'"
     ]
    }
   ],
   "source": [
    "# 2b. Not sure how to use groupby\n",
    "#df2 = school_data_drop.groupby(['Enrollment']).sum()\n",
    "#print(df2)"
   ]
  },
  {
   "cell_type": "code",
   "execution_count": 21,
   "metadata": {},
   "outputs": [],
   "source": [
    "# 2b. Create a new column called \"TOTAL_Enrollment\" that is the sum of all columns that end in \"Enrollment\".\n",
    "for col in school_data_drop.columns:\n",
    "    if 'Enrollment' in col:\n",
    "        TOTAL_Enrollment = school_data_drop.sum(axis=1)"
   ]
  },
  {
   "cell_type": "code",
   "execution_count": 22,
   "metadata": {},
   "outputs": [
    {
     "data": {
      "text/plain": [
       "365200477.6860885"
      ]
     },
     "execution_count": 22,
     "metadata": {},
     "output_type": "execute_result"
    }
   ],
   "source": [
    "# 2c. Compute the mean of \"TOTAL_Enrollment\" for each District. (Hint: groupby)\n",
    "TOTAL_Enrollment.mean()"
   ]
  },
  {
   "cell_type": "markdown",
   "metadata": {},
   "source": [
    "#### Problem 3\n",
    "\n",
    "a) Visualize each bivariate relationship among Average_Class_Size, Average_Salary, Perc_Economically_Disadvantaged, and Perc_English_Language_Learner.  Use the Seaborn function **pairplot**.  The argument to `pairplot` should be `school_data[['Average_Class_Size', 'Average_Salary', 'Perc_Economically_Disadvantaged', 'Perc_English_Language_Learner']]`, which will just pull those columns out from the full data frame.\n",
    "\n",
    "b) Describe what you see from the plots.\n",
    "\n",
    "c) Based on your observations from 3b, and as a completely post-hoc, exploratory analysis, choose one of the 4 measures from 3a to be an outcome variable, and a second measure to be a predictor variable.  Then run a linear regression, print the *summary*, and write a sentence interpreting the results (does not need to be detailed, just practice retrieving the relevant info on predictor significance, etc.)\n",
    "\n",
    "d) Commit your changes and push to GitHub!"
   ]
  },
  {
   "cell_type": "code",
   "execution_count": 24,
   "metadata": {},
   "outputs": [],
   "source": [
    "# Problem 3 code here (can split into multiple code chunks if you want)\n",
    "# 3a.\n",
    "cols_to_plot = ['Average_Class_Size', 'Average_Salary', 'Perc_Economically_Disadvantaged', 'Perc_English_Language_Learner']"
   ]
  },
  {
   "cell_type": "code",
   "execution_count": 29,
   "metadata": {},
   "outputs": [],
   "source": [
    "df1 = school_data[['Average_Class_Size', 'Average_Salary', 'Perc_Economically_Disadvantaged', 'Perc_English_Language_Learner']].dropna()"
   ]
  },
  {
   "cell_type": "code",
   "execution_count": 30,
   "metadata": {},
   "outputs": [
    {
     "data": {
      "text/html": [
       "<div>\n",
       "<style scoped>\n",
       "    .dataframe tbody tr th:only-of-type {\n",
       "        vertical-align: middle;\n",
       "    }\n",
       "\n",
       "    .dataframe tbody tr th {\n",
       "        vertical-align: top;\n",
       "    }\n",
       "\n",
       "    .dataframe thead th {\n",
       "        text-align: right;\n",
       "    }\n",
       "</style>\n",
       "<table border=\"1\" class=\"dataframe\">\n",
       "  <thead>\n",
       "    <tr style=\"text-align: right;\">\n",
       "      <th></th>\n",
       "      <th>Average_Class_Size</th>\n",
       "      <th>Average_Salary</th>\n",
       "      <th>Perc_Economically_Disadvantaged</th>\n",
       "      <th>Perc_English_Language_Learner</th>\n",
       "    </tr>\n",
       "  </thead>\n",
       "  <tbody>\n",
       "    <tr>\n",
       "      <th>0</th>\n",
       "      <td>15.8</td>\n",
       "      <td>74662.0</td>\n",
       "      <td>21.5</td>\n",
       "      <td>2.4</td>\n",
       "    </tr>\n",
       "    <tr>\n",
       "      <th>1</th>\n",
       "      <td>24.6</td>\n",
       "      <td>74662.0</td>\n",
       "      <td>23.3</td>\n",
       "      <td>7.2</td>\n",
       "    </tr>\n",
       "    <tr>\n",
       "      <th>2</th>\n",
       "      <td>14.6</td>\n",
       "      <td>74662.0</td>\n",
       "      <td>16.3</td>\n",
       "      <td>3.0</td>\n",
       "    </tr>\n",
       "    <tr>\n",
       "      <th>3</th>\n",
       "      <td>21.1</td>\n",
       "      <td>74662.0</td>\n",
       "      <td>21.6</td>\n",
       "      <td>1.8</td>\n",
       "    </tr>\n",
       "    <tr>\n",
       "      <th>4</th>\n",
       "      <td>30.4</td>\n",
       "      <td>74662.0</td>\n",
       "      <td>22.7</td>\n",
       "      <td>2.0</td>\n",
       "    </tr>\n",
       "  </tbody>\n",
       "</table>\n",
       "</div>"
      ],
      "text/plain": [
       "   Average_Class_Size  Average_Salary  Perc_Economically_Disadvantaged  \\\n",
       "0                15.8         74662.0                             21.5   \n",
       "1                24.6         74662.0                             23.3   \n",
       "2                14.6         74662.0                             16.3   \n",
       "3                21.1         74662.0                             21.6   \n",
       "4                30.4         74662.0                             22.7   \n",
       "\n",
       "   Perc_English_Language_Learner  \n",
       "0                            2.4  \n",
       "1                            7.2  \n",
       "2                            3.0  \n",
       "3                            1.8  \n",
       "4                            2.0  "
      ]
     },
     "execution_count": 30,
     "metadata": {},
     "output_type": "execute_result"
    }
   ],
   "source": [
    "df1.head()"
   ]
  },
  {
   "cell_type": "code",
   "execution_count": 57,
   "metadata": {},
   "outputs": [
    {
     "data": {
      "text/plain": [
       "<seaborn.axisgrid.PairGrid at 0x7fe45c47dc40>"
      ]
     },
     "execution_count": 57,
     "metadata": {},
     "output_type": "execute_result"
    }
   ],
   "source": [
    "sns.pairplot(df1[cols_to_plot])\n",
    "#sns.pairplot(school_data[cols_to_plot])"
   ]
  },
  {
   "cell_type": "code",
   "execution_count": 56,
   "metadata": {},
   "outputs": [],
   "source": [
    "# 3b. The average class size is in bell curve normal distribution, centered around size of 20. Avarage salary is multimodal distribution. The percent of economically disadvantaged is right skewed, which means that there are more districts at economically disadvantaged. There are more districts that have English language learners. "
   ]
  },
  {
   "cell_type": "code",
   "execution_count": 58,
   "metadata": {},
   "outputs": [],
   "source": [
    "# 3c.\n",
    "model = sns.regplot(data = school_data, x = \"Average_Salary\", y = \"Average_Class_Size\", color=\"green\") \\\n",
    "    .get_figure().savefig(\"Out_Plots/salary_size.png\")"
   ]
  },
  {
   "cell_type": "code",
   "execution_count": 59,
   "metadata": {},
   "outputs": [],
   "source": [
    "lm = smf.ols(formula = \"Average_Class_Size ~ Average_Salary\", data = df1).fit()"
   ]
  },
  {
   "cell_type": "code",
   "execution_count": 60,
   "metadata": {},
   "outputs": [
    {
     "data": {
      "text/plain": [
       "Intercept         14.922300\n",
       "Average_Salary     0.000045\n",
       "dtype: float64"
      ]
     },
     "execution_count": 60,
     "metadata": {},
     "output_type": "execute_result"
    }
   ],
   "source": [
    "lm.params"
   ]
  },
  {
   "cell_type": "code",
   "execution_count": 35,
   "metadata": {},
   "outputs": [
    {
     "data": {
      "text/html": [
       "<table class=\"simpletable\">\n",
       "<caption>OLS Regression Results</caption>\n",
       "<tr>\n",
       "  <th>Dep. Variable:</th>    <td>Average_Class_Size</td> <th>  R-squared:         </th> <td>   0.009</td>\n",
       "</tr>\n",
       "<tr>\n",
       "  <th>Model:</th>                    <td>OLS</td>        <th>  Adj. R-squared:    </th> <td>   0.008</td>\n",
       "</tr>\n",
       "<tr>\n",
       "  <th>Method:</th>              <td>Least Squares</td>   <th>  F-statistic:       </th> <td>   15.15</td>\n",
       "</tr>\n",
       "<tr>\n",
       "  <th>Date:</th>              <td>Tue, 29 Nov 2022</td>  <th>  Prob (F-statistic):</th> <td>0.000103</td>\n",
       "</tr>\n",
       "<tr>\n",
       "  <th>Time:</th>                  <td>21:57:12</td>      <th>  Log-Likelihood:    </th> <td> -4816.9</td>\n",
       "</tr>\n",
       "<tr>\n",
       "  <th>No. Observations:</th>       <td>  1743</td>       <th>  AIC:               </th> <td>   9638.</td>\n",
       "</tr>\n",
       "<tr>\n",
       "  <th>Df Residuals:</th>           <td>  1741</td>       <th>  BIC:               </th> <td>   9649.</td>\n",
       "</tr>\n",
       "<tr>\n",
       "  <th>Df Model:</th>               <td>     1</td>       <th>                     </th>     <td> </td>   \n",
       "</tr>\n",
       "<tr>\n",
       "  <th>Covariance Type:</th>       <td>nonrobust</td>     <th>                     </th>     <td> </td>   \n",
       "</tr>\n",
       "</table>\n",
       "<table class=\"simpletable\">\n",
       "<tr>\n",
       "         <td></td>           <th>coef</th>     <th>std err</th>      <th>t</th>      <th>P>|t|</th>  <th>[0.025</th>    <th>0.975]</th>  \n",
       "</tr>\n",
       "<tr>\n",
       "  <th>Intercept</th>      <td>   14.9223</td> <td>    0.855</td> <td>   17.461</td> <td> 0.000</td> <td>   13.246</td> <td>   16.598</td>\n",
       "</tr>\n",
       "<tr>\n",
       "  <th>Average_Salary</th> <td> 4.465e-05</td> <td> 1.15e-05</td> <td>    3.893</td> <td> 0.000</td> <td> 2.22e-05</td> <td> 6.71e-05</td>\n",
       "</tr>\n",
       "</table>\n",
       "<table class=\"simpletable\">\n",
       "<tr>\n",
       "  <th>Omnibus:</th>       <td>185.777</td> <th>  Durbin-Watson:     </th> <td>   1.758</td>\n",
       "</tr>\n",
       "<tr>\n",
       "  <th>Prob(Omnibus):</th> <td> 0.000</td>  <th>  Jarque-Bera (JB):  </th> <td> 422.137</td>\n",
       "</tr>\n",
       "<tr>\n",
       "  <th>Skew:</th>          <td>-0.632</td>  <th>  Prob(JB):          </th> <td>2.16e-92</td>\n",
       "</tr>\n",
       "<tr>\n",
       "  <th>Kurtosis:</th>      <td> 5.053</td>  <th>  Cond. No.          </th> <td>6.92e+05</td>\n",
       "</tr>\n",
       "</table><br/><br/>Notes:<br/>[1] Standard Errors assume that the covariance matrix of the errors is correctly specified.<br/>[2] The condition number is large, 6.92e+05. This might indicate that there are<br/>strong multicollinearity or other numerical problems."
      ],
      "text/plain": [
       "<class 'statsmodels.iolib.summary.Summary'>\n",
       "\"\"\"\n",
       "                            OLS Regression Results                            \n",
       "==============================================================================\n",
       "Dep. Variable:     Average_Class_Size   R-squared:                       0.009\n",
       "Model:                            OLS   Adj. R-squared:                  0.008\n",
       "Method:                 Least Squares   F-statistic:                     15.15\n",
       "Date:                Tue, 29 Nov 2022   Prob (F-statistic):           0.000103\n",
       "Time:                        21:57:12   Log-Likelihood:                -4816.9\n",
       "No. Observations:                1743   AIC:                             9638.\n",
       "Df Residuals:                    1741   BIC:                             9649.\n",
       "Df Model:                           1                                         \n",
       "Covariance Type:            nonrobust                                         \n",
       "==================================================================================\n",
       "                     coef    std err          t      P>|t|      [0.025      0.975]\n",
       "----------------------------------------------------------------------------------\n",
       "Intercept         14.9223      0.855     17.461      0.000      13.246      16.598\n",
       "Average_Salary  4.465e-05   1.15e-05      3.893      0.000    2.22e-05    6.71e-05\n",
       "==============================================================================\n",
       "Omnibus:                      185.777   Durbin-Watson:                   1.758\n",
       "Prob(Omnibus):                  0.000   Jarque-Bera (JB):              422.137\n",
       "Skew:                          -0.632   Prob(JB):                     2.16e-92\n",
       "Kurtosis:                       5.053   Cond. No.                     6.92e+05\n",
       "==============================================================================\n",
       "\n",
       "Notes:\n",
       "[1] Standard Errors assume that the covariance matrix of the errors is correctly specified.\n",
       "[2] The condition number is large, 6.92e+05. This might indicate that there are\n",
       "strong multicollinearity or other numerical problems.\n",
       "\"\"\""
      ]
     },
     "execution_count": 35,
     "metadata": {},
     "output_type": "execute_result"
    }
   ],
   "source": [
    "lm.summary()"
   ]
  },
  {
   "cell_type": "code",
   "execution_count": 65,
   "metadata": {},
   "outputs": [],
   "source": [
    "#Tried an alternative way:\n",
    "model = LinearRegression()\n",
    "X = df1.loc[:, 'Average_Salary'].values.reshape(-1, 1) \n",
    "Y = df1.loc[:, 'Average_Class_Size'].values.reshape(-1, 1) \n",
    "model.fit(X,Y) # error\n",
    "Y_pred = model.predict(X) \n",
    "#print(model.fit(X,Y).summary())"
   ]
  },
  {
   "cell_type": "code",
   "execution_count": 62,
   "metadata": {},
   "outputs": [],
   "source": [
    "#Tried an alternative way:\n",
    "mod = smf.ols(formula='Average_Class_Size ~ Average_Salary', data = df1)"
   ]
  },
  {
   "cell_type": "code",
   "execution_count": 63,
   "metadata": {},
   "outputs": [],
   "source": [
    "res = mod.fit()"
   ]
  },
  {
   "cell_type": "code",
   "execution_count": 43,
   "metadata": {},
   "outputs": [
    {
     "name": "stdout",
     "output_type": "stream",
     "text": [
      "                            OLS Regression Results                            \n",
      "==============================================================================\n",
      "Dep. Variable:     Average_Class_Size   R-squared:                       0.009\n",
      "Model:                            OLS   Adj. R-squared:                  0.008\n",
      "Method:                 Least Squares   F-statistic:                     15.15\n",
      "Date:                Tue, 29 Nov 2022   Prob (F-statistic):           0.000103\n",
      "Time:                        21:59:11   Log-Likelihood:                -4816.9\n",
      "No. Observations:                1743   AIC:                             9638.\n",
      "Df Residuals:                    1741   BIC:                             9649.\n",
      "Df Model:                           1                                         \n",
      "Covariance Type:            nonrobust                                         \n",
      "==================================================================================\n",
      "                     coef    std err          t      P>|t|      [0.025      0.975]\n",
      "----------------------------------------------------------------------------------\n",
      "Intercept         14.9223      0.855     17.461      0.000      13.246      16.598\n",
      "Average_Salary  4.465e-05   1.15e-05      3.893      0.000    2.22e-05    6.71e-05\n",
      "==============================================================================\n",
      "Omnibus:                      185.777   Durbin-Watson:                   1.758\n",
      "Prob(Omnibus):                  0.000   Jarque-Bera (JB):              422.137\n",
      "Skew:                          -0.632   Prob(JB):                     2.16e-92\n",
      "Kurtosis:                       5.053   Cond. No.                     6.92e+05\n",
      "==============================================================================\n",
      "\n",
      "Notes:\n",
      "[1] Standard Errors assume that the covariance matrix of the errors is correctly specified.\n",
      "[2] The condition number is large, 6.92e+05. This might indicate that there are\n",
      "strong multicollinearity or other numerical problems.\n"
     ]
    }
   ],
   "source": [
    "print(res.summary())"
   ]
  },
  {
   "cell_type": "code",
   "execution_count": null,
   "metadata": {},
   "outputs": [],
   "source": [
    "# 3c. Description: Average_Class_Size and Average_Salary are significantly correlated. According to notes [2] from the result table, \"the condition number is large, 6.92e+05. This might indicate that there are strong multicollinearity or other numerical problems.\""
   ]
  },
  {
   "cell_type": "markdown",
   "metadata": {},
   "source": [
    "#### Problem 4\n",
    "\n",
    "a) Create a new linear regression model that takes the model from 3c and adds both of the remaining variables from 3a as additional predictor variables.  To do this, the formula interface would look like `\"outcome_name ~ predictor1_name + predictor2_name + predictor3_name\"`\n",
    "\n",
    "b) Print the summary from 4a, and write a short interpretation of the results, especially comparing it to Problem 3c.  \n",
    "\n",
    "c) Add School_Type as another predictor to your model.  Interpret the new predictor in your output.  How is it different from the other predictors?\n",
    "\n",
    "d) Commit your changes and push to GitHub!"
   ]
  },
  {
   "cell_type": "code",
   "execution_count": 45,
   "metadata": {},
   "outputs": [],
   "source": [
    "# Problem 4 code here (can split into multiple code chunks if you want)\n",
    "# 4a.\n",
    "mod2 = smf.ols(formula='Average_Class_Size ~ Average_Salary + Perc_Economically_Disadvantaged + Perc_English_Language_Learner', data = df1)\n"
   ]
  },
  {
   "cell_type": "code",
   "execution_count": 47,
   "metadata": {},
   "outputs": [],
   "source": [
    "res2 = mod2.fit()"
   ]
  },
  {
   "cell_type": "code",
   "execution_count": 48,
   "metadata": {},
   "outputs": [
    {
     "name": "stdout",
     "output_type": "stream",
     "text": [
      "                            OLS Regression Results                            \n",
      "==============================================================================\n",
      "Dep. Variable:     Average_Class_Size   R-squared:                       0.063\n",
      "Model:                            OLS   Adj. R-squared:                  0.061\n",
      "Method:                 Least Squares   F-statistic:                     38.75\n",
      "Date:                Tue, 29 Nov 2022   Prob (F-statistic):           3.08e-24\n",
      "Time:                        22:00:50   Log-Likelihood:                -4768.1\n",
      "No. Observations:                1743   AIC:                             9544.\n",
      "Df Residuals:                    1739   BIC:                             9566.\n",
      "Df Model:                           3                                         \n",
      "Covariance Type:            nonrobust                                         \n",
      "===================================================================================================\n",
      "                                      coef    std err          t      P>|t|      [0.025      0.975]\n",
      "---------------------------------------------------------------------------------------------------\n",
      "Intercept                          19.6251      0.957     20.518      0.000      17.749      21.501\n",
      "Average_Salary                  -7.414e-06   1.25e-05     -0.594      0.552   -3.19e-05    1.71e-05\n",
      "Perc_Economically_Disadvantaged    -0.0518      0.005     -9.590      0.000      -0.062      -0.041\n",
      "Perc_English_Language_Learner       0.0825      0.010      8.587      0.000       0.064       0.101\n",
      "==============================================================================\n",
      "Omnibus:                      104.914   Durbin-Watson:                   1.783\n",
      "Prob(Omnibus):                  0.000   Jarque-Bera (JB):              262.181\n",
      "Skew:                          -0.336   Prob(JB):                     1.17e-57\n",
      "Kurtosis:                       4.777   Cond. No.                     7.97e+05\n",
      "==============================================================================\n",
      "\n",
      "Notes:\n",
      "[1] Standard Errors assume that the covariance matrix of the errors is correctly specified.\n",
      "[2] The condition number is large, 7.97e+05. This might indicate that there are\n",
      "strong multicollinearity or other numerical problems.\n"
     ]
    }
   ],
   "source": [
    "print(res2.summary())"
   ]
  },
  {
   "cell_type": "code",
   "execution_count": null,
   "metadata": {},
   "outputs": [],
   "source": [
    "# 4b. Description: According to notes [2] from the result table, \"the condition number is large, 7.97e+05. This might indicate that there are strong multicollinearity or other numerical problems.\""
   ]
  },
  {
   "cell_type": "code",
   "execution_count": 66,
   "metadata": {},
   "outputs": [],
   "source": [
    "df3 = school_data[['Average_Class_Size', 'Average_Salary', 'Perc_Economically_Disadvantaged', 'Perc_English_Language_Learner', 'School_Type']].dropna()"
   ]
  },
  {
   "cell_type": "code",
   "execution_count": 67,
   "metadata": {},
   "outputs": [],
   "source": [
    "# 4c.\n",
    "mod3 = smf.ols(formula='Average_Class_Size ~ Average_Salary + Perc_Economically_Disadvantaged + Perc_English_Language_Learner + School_Type', data = df3)"
   ]
  },
  {
   "cell_type": "code",
   "execution_count": 68,
   "metadata": {},
   "outputs": [],
   "source": [
    "res3 = mod3.fit()"
   ]
  },
  {
   "cell_type": "code",
   "execution_count": 69,
   "metadata": {},
   "outputs": [
    {
     "name": "stdout",
     "output_type": "stream",
     "text": [
      "                            OLS Regression Results                            \n",
      "==============================================================================\n",
      "Dep. Variable:     Average_Class_Size   R-squared:                       0.063\n",
      "Model:                            OLS   Adj. R-squared:                  0.061\n",
      "Method:                 Least Squares   F-statistic:                     38.75\n",
      "Date:                Tue, 29 Nov 2022   Prob (F-statistic):           3.08e-24\n",
      "Time:                        23:09:26   Log-Likelihood:                -4768.1\n",
      "No. Observations:                1743   AIC:                             9544.\n",
      "Df Residuals:                    1739   BIC:                             9566.\n",
      "Df Model:                           3                                         \n",
      "Covariance Type:            nonrobust                                         \n",
      "===================================================================================================\n",
      "                                      coef    std err          t      P>|t|      [0.025      0.975]\n",
      "---------------------------------------------------------------------------------------------------\n",
      "Intercept                          19.6251      0.957     20.518      0.000      17.749      21.501\n",
      "Average_Salary                  -7.414e-06   1.25e-05     -0.594      0.552   -3.19e-05    1.71e-05\n",
      "Perc_Economically_Disadvantaged    -0.0518      0.005     -9.590      0.000      -0.062      -0.041\n",
      "Perc_English_Language_Learner       0.0825      0.010      8.587      0.000       0.064       0.101\n",
      "==============================================================================\n",
      "Omnibus:                      104.914   Durbin-Watson:                   1.783\n",
      "Prob(Omnibus):                  0.000   Jarque-Bera (JB):              262.181\n",
      "Skew:                          -0.336   Prob(JB):                     1.17e-57\n",
      "Kurtosis:                       4.777   Cond. No.                     7.97e+05\n",
      "==============================================================================\n",
      "\n",
      "Notes:\n",
      "[1] Standard Errors assume that the covariance matrix of the errors is correctly specified.\n",
      "[2] The condition number is large, 7.97e+05. This might indicate that there are\n",
      "strong multicollinearity or other numerical problems.\n"
     ]
    }
   ],
   "source": [
    "print(res3.summary())"
   ]
  },
  {
   "cell_type": "code",
   "execution_count": null,
   "metadata": {},
   "outputs": [],
   "source": [
    "# 4c. Description: It seems that adding \"School_Type\" does not affect the result."
   ]
  },
  {
   "cell_type": "markdown",
   "metadata": {},
   "source": [
    "#### Problem 5\n",
    "\n",
    "a) Save this Jupyter notebook as an HTML file (File > Download As > HTML) into your local repository (this folder). By default, Jupyter may put your HTML file in your default Downloads folder (wherever that is) -- if that happens, just manually move the file into this repo folder.\n",
    "\n",
    "b) Stage, commit, and push all changes to your GitHub repository.\n",
    "\n",
    "c) Submit a link to your repository as your submission for the assignment on Canvas. Remember the note from Problem 0: you can keep your repo private and add me as a collaborator."
   ]
  }
 ],
 "metadata": {
  "kernelspec": {
   "display_name": "Python 3 (ipykernel)",
   "language": "python",
   "name": "python3"
  },
  "language_info": {
   "codemirror_mode": {
    "name": "ipython",
    "version": 3
   },
   "file_extension": ".py",
   "mimetype": "text/x-python",
   "name": "python",
   "nbconvert_exporter": "python",
   "pygments_lexer": "ipython3",
   "version": "3.9.13"
  }
 },
 "nbformat": 4,
 "nbformat_minor": 2
}
